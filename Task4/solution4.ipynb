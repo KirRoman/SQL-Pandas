{
  "cells": [
    {
      "cell_type": "markdown",
      "metadata": {
        "id": "-YdKJphz31Sq"
      },
      "source": [
        "# Task 4: Агрегации"
      ]
    },
    {
      "cell_type": "markdown",
      "metadata": {
        "id": "_U5BzhnW33sX"
      },
      "source": [
        "На предыдущих этапах вы занимались просто подготовкой данных. Вы не получили никакой аналитической информации на основе имеющихся данных. Пришло время приступить к анализу. Помните, что, согласно нашему предположению, пользователи приступили бы к работе над лабораторными заданиями раньше, если бы они просмотрели ленту новостей? Это означает, что ключевой метрикой для нас является период времени (delta) между датой начала работы пользователя над лабораторным заданием (первого коммита) и сроком сдачи лабораторного задания. Мы будем смотреть на то, меняется ли она в зависимости от просмотра страницы."
      ]
    },
    {
      "cell_type": "markdown",
      "metadata": {
        "id": "kLn87pSp4Kda"
      },
      "source": [
        "## 1. Создайте соединение с базой данных с помощью библиотеки `sqlite3`."
      ]
    },
    {
      "cell_type": "code",
      "execution_count": 1,
      "metadata": {
        "colab": {
          "base_uri": "https://localhost:8080/"
        },
        "id": "lC73MIW23fXH",
        "outputId": "5248d620-6fbb-4fff-d2fa-f3c1cfcc3909"
      },
      "outputs": [],
      "source": [
        "import pandas as pd\n",
        "import sqlite3 as s\n",
        "connection = s.connect('C:/Users/зщ/Downloads/DS_project11-0-develop/src/data/checking-logs.sqlite') "
      ]
    },
    {
      "cell_type": "markdown",
      "metadata": {
        "id": "77TlJLBlE5NY"
      },
      "source": [
        "## 2. Получите схему таблицы `test`."
      ]
    },
    {
      "cell_type": "code",
      "execution_count": 2,
      "metadata": {
        "colab": {
          "base_uri": "https://localhost:8080/",
          "height": 175
        },
        "id": "qbPnPnXyFDi3",
        "outputId": "e9f6cf74-5715-43f0-8009-1e38a070fa14"
      },
      "outputs": [
        {
          "data": {
            "text/html": [
              "<div>\n",
              "<style scoped>\n",
              "    .dataframe tbody tr th:only-of-type {\n",
              "        vertical-align: middle;\n",
              "    }\n",
              "\n",
              "    .dataframe tbody tr th {\n",
              "        vertical-align: top;\n",
              "    }\n",
              "\n",
              "    .dataframe thead th {\n",
              "        text-align: right;\n",
              "    }\n",
              "</style>\n",
              "<table border=\"1\" class=\"dataframe\">\n",
              "  <thead>\n",
              "    <tr style=\"text-align: right;\">\n",
              "      <th></th>\n",
              "      <th>cid</th>\n",
              "      <th>name</th>\n",
              "      <th>type</th>\n",
              "      <th>notnull</th>\n",
              "      <th>dflt_value</th>\n",
              "      <th>pk</th>\n",
              "    </tr>\n",
              "  </thead>\n",
              "  <tbody>\n",
              "    <tr>\n",
              "      <th>0</th>\n",
              "      <td>0</td>\n",
              "      <td>index</td>\n",
              "      <td>INTEGER</td>\n",
              "      <td>0</td>\n",
              "      <td>None</td>\n",
              "      <td>0</td>\n",
              "    </tr>\n",
              "    <tr>\n",
              "      <th>1</th>\n",
              "      <td>1</td>\n",
              "      <td>uid</td>\n",
              "      <td>TEXT</td>\n",
              "      <td>0</td>\n",
              "      <td>None</td>\n",
              "      <td>0</td>\n",
              "    </tr>\n",
              "    <tr>\n",
              "      <th>2</th>\n",
              "      <td>2</td>\n",
              "      <td>labname</td>\n",
              "      <td>TEXT</td>\n",
              "      <td>0</td>\n",
              "      <td>None</td>\n",
              "      <td>0</td>\n",
              "    </tr>\n",
              "    <tr>\n",
              "      <th>3</th>\n",
              "      <td>3</td>\n",
              "      <td>first_commit_ts</td>\n",
              "      <td>TIMESTAMP</td>\n",
              "      <td>0</td>\n",
              "      <td>None</td>\n",
              "      <td>0</td>\n",
              "    </tr>\n",
              "    <tr>\n",
              "      <th>4</th>\n",
              "      <td>4</td>\n",
              "      <td>first_view_ts</td>\n",
              "      <td>TIMESTAMP</td>\n",
              "      <td>0</td>\n",
              "      <td>None</td>\n",
              "      <td>0</td>\n",
              "    </tr>\n",
              "  </tbody>\n",
              "</table>\n",
              "</div>"
            ],
            "text/plain": [
              "   cid             name       type  notnull dflt_value  pk\n",
              "0    0            index    INTEGER        0       None   0\n",
              "1    1              uid       TEXT        0       None   0\n",
              "2    2          labname       TEXT        0       None   0\n",
              "3    3  first_commit_ts  TIMESTAMP        0       None   0\n",
              "4    4    first_view_ts  TIMESTAMP        0       None   0"
            ]
          },
          "execution_count": 2,
          "metadata": {},
          "output_type": "execute_result"
        }
      ],
      "source": [
        "shema_test = pd.io.sql.read_sql( con = connection,\n",
        "                            sql = 'PRAGMA table_info(test);' )\n",
        "shema_test"
      ]
    },
    {
      "cell_type": "markdown",
      "metadata": {
        "id": "ZTRCm-KEFPy8"
      },
      "source": [
        "## 3. Получите только первые 10 строк таблицы `test`, чтобы проверить, как она выглядит."
      ]
    },
    {
      "cell_type": "code",
      "execution_count": 3,
      "metadata": {
        "colab": {
          "base_uri": "https://localhost:8080/",
          "height": 363
        },
        "id": "pLrRQRqbFTR8",
        "outputId": "97d30b99-a573-42dd-ed49-52293ab17c9b"
      },
      "outputs": [
        {
          "data": {
            "text/html": [
              "<div>\n",
              "<style scoped>\n",
              "    .dataframe tbody tr th:only-of-type {\n",
              "        vertical-align: middle;\n",
              "    }\n",
              "\n",
              "    .dataframe tbody tr th {\n",
              "        vertical-align: top;\n",
              "    }\n",
              "\n",
              "    .dataframe thead th {\n",
              "        text-align: right;\n",
              "    }\n",
              "</style>\n",
              "<table border=\"1\" class=\"dataframe\">\n",
              "  <thead>\n",
              "    <tr style=\"text-align: right;\">\n",
              "      <th></th>\n",
              "      <th>index</th>\n",
              "      <th>uid</th>\n",
              "      <th>labname</th>\n",
              "      <th>first_commit_ts</th>\n",
              "      <th>first_view_ts</th>\n",
              "    </tr>\n",
              "  </thead>\n",
              "  <tbody>\n",
              "    <tr>\n",
              "      <th>0</th>\n",
              "      <td>3</td>\n",
              "      <td>user_17</td>\n",
              "      <td>project1</td>\n",
              "      <td>2020-04-18 07:56:45.408648</td>\n",
              "      <td>2020-04-18 10:56:55.833899</td>\n",
              "    </tr>\n",
              "    <tr>\n",
              "      <th>1</th>\n",
              "      <td>4</td>\n",
              "      <td>user_30</td>\n",
              "      <td>laba04</td>\n",
              "      <td>2020-04-18 13:36:53.971502</td>\n",
              "      <td>2020-04-17 22:46:26.785035</td>\n",
              "    </tr>\n",
              "    <tr>\n",
              "      <th>2</th>\n",
              "      <td>7</td>\n",
              "      <td>user_30</td>\n",
              "      <td>laba04s</td>\n",
              "      <td>2020-04-18 14:51:37.498399</td>\n",
              "      <td>2020-04-17 22:46:26.785035</td>\n",
              "    </tr>\n",
              "    <tr>\n",
              "      <th>3</th>\n",
              "      <td>8</td>\n",
              "      <td>user_14</td>\n",
              "      <td>laba04</td>\n",
              "      <td>2020-04-18 15:14:00.312338</td>\n",
              "      <td>2020-04-18 10:53:52.623447</td>\n",
              "    </tr>\n",
              "    <tr>\n",
              "      <th>4</th>\n",
              "      <td>11</td>\n",
              "      <td>user_14</td>\n",
              "      <td>laba04s</td>\n",
              "      <td>2020-04-18 22:30:30.247628</td>\n",
              "      <td>2020-04-18 10:53:52.623447</td>\n",
              "    </tr>\n",
              "    <tr>\n",
              "      <th>5</th>\n",
              "      <td>18</td>\n",
              "      <td>user_19</td>\n",
              "      <td>laba04</td>\n",
              "      <td>2020-04-20 19:05:01.297780</td>\n",
              "      <td>2020-04-21 20:30:38.034966</td>\n",
              "    </tr>\n",
              "    <tr>\n",
              "      <th>6</th>\n",
              "      <td>19</td>\n",
              "      <td>user_25</td>\n",
              "      <td>laba04</td>\n",
              "      <td>2020-04-20 19:16:50.673054</td>\n",
              "      <td>2020-05-09 23:54:54.260791</td>\n",
              "    </tr>\n",
              "    <tr>\n",
              "      <th>7</th>\n",
              "      <td>20</td>\n",
              "      <td>user_21</td>\n",
              "      <td>laba04</td>\n",
              "      <td>2020-04-21 17:48:00.487806</td>\n",
              "      <td>2020-04-22 22:40:36.824081</td>\n",
              "    </tr>\n",
              "    <tr>\n",
              "      <th>8</th>\n",
              "      <td>21</td>\n",
              "      <td>user_30</td>\n",
              "      <td>project1</td>\n",
              "      <td>2020-04-22 12:36:24.053518</td>\n",
              "      <td>2020-04-17 22:46:26.785035</td>\n",
              "    </tr>\n",
              "    <tr>\n",
              "      <th>9</th>\n",
              "      <td>23</td>\n",
              "      <td>user_21</td>\n",
              "      <td>laba04s</td>\n",
              "      <td>2020-04-22 20:09:21.857747</td>\n",
              "      <td>2020-04-22 22:40:36.824081</td>\n",
              "    </tr>\n",
              "  </tbody>\n",
              "</table>\n",
              "</div>"
            ],
            "text/plain": [
              "   index      uid   labname             first_commit_ts  \\\n",
              "0      3  user_17  project1  2020-04-18 07:56:45.408648   \n",
              "1      4  user_30    laba04  2020-04-18 13:36:53.971502   \n",
              "2      7  user_30   laba04s  2020-04-18 14:51:37.498399   \n",
              "3      8  user_14    laba04  2020-04-18 15:14:00.312338   \n",
              "4     11  user_14   laba04s  2020-04-18 22:30:30.247628   \n",
              "5     18  user_19    laba04  2020-04-20 19:05:01.297780   \n",
              "6     19  user_25    laba04  2020-04-20 19:16:50.673054   \n",
              "7     20  user_21    laba04  2020-04-21 17:48:00.487806   \n",
              "8     21  user_30  project1  2020-04-22 12:36:24.053518   \n",
              "9     23  user_21   laba04s  2020-04-22 20:09:21.857747   \n",
              "\n",
              "                first_view_ts  \n",
              "0  2020-04-18 10:56:55.833899  \n",
              "1  2020-04-17 22:46:26.785035  \n",
              "2  2020-04-17 22:46:26.785035  \n",
              "3  2020-04-18 10:53:52.623447  \n",
              "4  2020-04-18 10:53:52.623447  \n",
              "5  2020-04-21 20:30:38.034966  \n",
              "6  2020-05-09 23:54:54.260791  \n",
              "7  2020-04-22 22:40:36.824081  \n",
              "8  2020-04-17 22:46:26.785035  \n",
              "9  2020-04-22 22:40:36.824081  "
            ]
          },
          "execution_count": 3,
          "metadata": {},
          "output_type": "execute_result"
        }
      ],
      "source": [
        "pd.io.sql.read_sql( con = connection,\n",
        "                    sql = 'SELECT * FROM test limit 10;' )"
      ]
    },
    {
      "cell_type": "markdown",
      "metadata": {
        "id": "82TtZdOAFnD2"
      },
      "source": [
        "## 4. Найдите среди всех пользователей минимальное значение этой самой дельты (периода времени от даты первого коммита пользователя до срока сдачи соответствующего лабораторного задания), используя только один запрос"
      ]
    },
    {
      "cell_type": "markdown",
      "metadata": {
        "id": "M-6dSNiBFpUG"
      },
      "source": [
        "* Для этого сджойните данные своей таблицы с данными таблицы `deadlines`\n",
        "* Период времени должен отображаться в часах.\n",
        "* Не учитывайте лабораторное задание `project1` с более длительным сроком сдачи, поскольку оно будет выделяться на фоне других.\n",
        "* Сохраните значение в датафрейме `df_min` с соответствующим `uid`."
      ]
    },
    {
      "cell_type": "code",
      "execution_count": 4,
      "metadata": {
        "colab": {
          "base_uri": "https://localhost:8080/",
          "height": 143
        },
        "id": "gfwwRmvAF5bG",
        "outputId": "280b5c7e-6fe9-4e74-ed60-2e7069ddd1f3"
      },
      "outputs": [
        {
          "data": {
            "text/html": [
              "<div>\n",
              "<style scoped>\n",
              "    .dataframe tbody tr th:only-of-type {\n",
              "        vertical-align: middle;\n",
              "    }\n",
              "\n",
              "    .dataframe tbody tr th {\n",
              "        vertical-align: top;\n",
              "    }\n",
              "\n",
              "    .dataframe thead th {\n",
              "        text-align: right;\n",
              "    }\n",
              "</style>\n",
              "<table border=\"1\" class=\"dataframe\">\n",
              "  <thead>\n",
              "    <tr style=\"text-align: right;\">\n",
              "      <th></th>\n",
              "      <th>cid</th>\n",
              "      <th>name</th>\n",
              "      <th>type</th>\n",
              "      <th>notnull</th>\n",
              "      <th>dflt_value</th>\n",
              "      <th>pk</th>\n",
              "    </tr>\n",
              "  </thead>\n",
              "  <tbody>\n",
              "    <tr>\n",
              "      <th>0</th>\n",
              "      <td>0</td>\n",
              "      <td>index</td>\n",
              "      <td>INTEGER</td>\n",
              "      <td>0</td>\n",
              "      <td>None</td>\n",
              "      <td>0</td>\n",
              "    </tr>\n",
              "    <tr>\n",
              "      <th>1</th>\n",
              "      <td>1</td>\n",
              "      <td>labs</td>\n",
              "      <td>TEXT</td>\n",
              "      <td>0</td>\n",
              "      <td>None</td>\n",
              "      <td>0</td>\n",
              "    </tr>\n",
              "    <tr>\n",
              "      <th>2</th>\n",
              "      <td>2</td>\n",
              "      <td>deadlines</td>\n",
              "      <td>INTEGER</td>\n",
              "      <td>0</td>\n",
              "      <td>None</td>\n",
              "      <td>0</td>\n",
              "    </tr>\n",
              "  </tbody>\n",
              "</table>\n",
              "</div>"
            ],
            "text/plain": [
              "   cid       name     type  notnull dflt_value  pk\n",
              "0    0      index  INTEGER        0       None   0\n",
              "1    1       labs     TEXT        0       None   0\n",
              "2    2  deadlines  INTEGER        0       None   0"
            ]
          },
          "execution_count": 4,
          "metadata": {},
          "output_type": "execute_result"
        }
      ],
      "source": [
        "shema_deadlines = pd.io.sql.read_sql( con = connection,\n",
        "                            sql = 'PRAGMA table_info(deadlines);' )\n",
        "shema_deadlines"
      ]
    },
    {
      "cell_type": "code",
      "execution_count": 5,
      "metadata": {
        "colab": {
          "base_uri": "https://localhost:8080/",
          "height": 363
        },
        "id": "6HYS8P-LGMsh",
        "outputId": "ff62bcc5-1016-49d2-9e76-472b7b33bc6d"
      },
      "outputs": [
        {
          "data": {
            "text/html": [
              "<div>\n",
              "<style scoped>\n",
              "    .dataframe tbody tr th:only-of-type {\n",
              "        vertical-align: middle;\n",
              "    }\n",
              "\n",
              "    .dataframe tbody tr th {\n",
              "        vertical-align: top;\n",
              "    }\n",
              "\n",
              "    .dataframe thead th {\n",
              "        text-align: right;\n",
              "    }\n",
              "</style>\n",
              "<table border=\"1\" class=\"dataframe\">\n",
              "  <thead>\n",
              "    <tr style=\"text-align: right;\">\n",
              "      <th></th>\n",
              "      <th>index</th>\n",
              "      <th>uid</th>\n",
              "      <th>labname</th>\n",
              "      <th>first_commit_ts</th>\n",
              "      <th>first_view_ts</th>\n",
              "    </tr>\n",
              "  </thead>\n",
              "  <tbody>\n",
              "    <tr>\n",
              "      <th>0</th>\n",
              "      <td>3</td>\n",
              "      <td>user_17</td>\n",
              "      <td>project1</td>\n",
              "      <td>2020-04-18 07:56:45.408648</td>\n",
              "      <td>2020-04-18 10:56:55.833899</td>\n",
              "    </tr>\n",
              "    <tr>\n",
              "      <th>1</th>\n",
              "      <td>4</td>\n",
              "      <td>user_30</td>\n",
              "      <td>laba04</td>\n",
              "      <td>2020-04-18 13:36:53.971502</td>\n",
              "      <td>2020-04-17 22:46:26.785035</td>\n",
              "    </tr>\n",
              "    <tr>\n",
              "      <th>2</th>\n",
              "      <td>7</td>\n",
              "      <td>user_30</td>\n",
              "      <td>laba04s</td>\n",
              "      <td>2020-04-18 14:51:37.498399</td>\n",
              "      <td>2020-04-17 22:46:26.785035</td>\n",
              "    </tr>\n",
              "    <tr>\n",
              "      <th>3</th>\n",
              "      <td>8</td>\n",
              "      <td>user_14</td>\n",
              "      <td>laba04</td>\n",
              "      <td>2020-04-18 15:14:00.312338</td>\n",
              "      <td>2020-04-18 10:53:52.623447</td>\n",
              "    </tr>\n",
              "    <tr>\n",
              "      <th>4</th>\n",
              "      <td>11</td>\n",
              "      <td>user_14</td>\n",
              "      <td>laba04s</td>\n",
              "      <td>2020-04-18 22:30:30.247628</td>\n",
              "      <td>2020-04-18 10:53:52.623447</td>\n",
              "    </tr>\n",
              "    <tr>\n",
              "      <th>5</th>\n",
              "      <td>18</td>\n",
              "      <td>user_19</td>\n",
              "      <td>laba04</td>\n",
              "      <td>2020-04-20 19:05:01.297780</td>\n",
              "      <td>2020-04-21 20:30:38.034966</td>\n",
              "    </tr>\n",
              "    <tr>\n",
              "      <th>6</th>\n",
              "      <td>19</td>\n",
              "      <td>user_25</td>\n",
              "      <td>laba04</td>\n",
              "      <td>2020-04-20 19:16:50.673054</td>\n",
              "      <td>2020-05-09 23:54:54.260791</td>\n",
              "    </tr>\n",
              "    <tr>\n",
              "      <th>7</th>\n",
              "      <td>20</td>\n",
              "      <td>user_21</td>\n",
              "      <td>laba04</td>\n",
              "      <td>2020-04-21 17:48:00.487806</td>\n",
              "      <td>2020-04-22 22:40:36.824081</td>\n",
              "    </tr>\n",
              "    <tr>\n",
              "      <th>8</th>\n",
              "      <td>21</td>\n",
              "      <td>user_30</td>\n",
              "      <td>project1</td>\n",
              "      <td>2020-04-22 12:36:24.053518</td>\n",
              "      <td>2020-04-17 22:46:26.785035</td>\n",
              "    </tr>\n",
              "    <tr>\n",
              "      <th>9</th>\n",
              "      <td>23</td>\n",
              "      <td>user_21</td>\n",
              "      <td>laba04s</td>\n",
              "      <td>2020-04-22 20:09:21.857747</td>\n",
              "      <td>2020-04-22 22:40:36.824081</td>\n",
              "    </tr>\n",
              "  </tbody>\n",
              "</table>\n",
              "</div>"
            ],
            "text/plain": [
              "   index      uid   labname             first_commit_ts  \\\n",
              "0      3  user_17  project1  2020-04-18 07:56:45.408648   \n",
              "1      4  user_30    laba04  2020-04-18 13:36:53.971502   \n",
              "2      7  user_30   laba04s  2020-04-18 14:51:37.498399   \n",
              "3      8  user_14    laba04  2020-04-18 15:14:00.312338   \n",
              "4     11  user_14   laba04s  2020-04-18 22:30:30.247628   \n",
              "5     18  user_19    laba04  2020-04-20 19:05:01.297780   \n",
              "6     19  user_25    laba04  2020-04-20 19:16:50.673054   \n",
              "7     20  user_21    laba04  2020-04-21 17:48:00.487806   \n",
              "8     21  user_30  project1  2020-04-22 12:36:24.053518   \n",
              "9     23  user_21   laba04s  2020-04-22 20:09:21.857747   \n",
              "\n",
              "                first_view_ts  \n",
              "0  2020-04-18 10:56:55.833899  \n",
              "1  2020-04-17 22:46:26.785035  \n",
              "2  2020-04-17 22:46:26.785035  \n",
              "3  2020-04-18 10:53:52.623447  \n",
              "4  2020-04-18 10:53:52.623447  \n",
              "5  2020-04-21 20:30:38.034966  \n",
              "6  2020-05-09 23:54:54.260791  \n",
              "7  2020-04-22 22:40:36.824081  \n",
              "8  2020-04-17 22:46:26.785035  \n",
              "9  2020-04-22 22:40:36.824081  "
            ]
          },
          "execution_count": 5,
          "metadata": {},
          "output_type": "execute_result"
        }
      ],
      "source": [
        "pd.io.sql.read_sql( con = connection,\n",
        "                    sql = 'SELECT * FROM test limit 10;' )"
      ]
    },
    {
      "cell_type": "code",
      "execution_count": 6,
      "metadata": {
        "id": "9U4t17-lJ3Eu"
      },
      "outputs": [],
      "source": [
        "sql = (\n",
        "           '''\n",
        "           SELECT   uid, MIN(strftime(\"%s\", first_commit_ts) - deadlines.deadlines)/3600 AS delta\n",
        "           FROM      test\n",
        "           INNER JOIN deadlines ON test.labname = deadlines.labs\n",
        "           WHERE labname <> 'project1'      \n",
        "           '''\n",
        "           )"
      ]
    },
    {
      "cell_type": "code",
      "execution_count": 7,
      "metadata": {
        "colab": {
          "base_uri": "https://localhost:8080/",
          "height": 81
        },
        "id": "EUs2Y9ZfNSEX",
        "outputId": "aa7f148e-c6cb-41a6-ec0e-2a9f1ea8fa79"
      },
      "outputs": [
        {
          "data": {
            "text/html": [
              "<div>\n",
              "<style scoped>\n",
              "    .dataframe tbody tr th:only-of-type {\n",
              "        vertical-align: middle;\n",
              "    }\n",
              "\n",
              "    .dataframe tbody tr th {\n",
              "        vertical-align: top;\n",
              "    }\n",
              "\n",
              "    .dataframe thead th {\n",
              "        text-align: right;\n",
              "    }\n",
              "</style>\n",
              "<table border=\"1\" class=\"dataframe\">\n",
              "  <thead>\n",
              "    <tr style=\"text-align: right;\">\n",
              "      <th></th>\n",
              "      <th>uid</th>\n",
              "      <th>delta</th>\n",
              "    </tr>\n",
              "  </thead>\n",
              "  <tbody>\n",
              "    <tr>\n",
              "      <th>0</th>\n",
              "      <td>user_30</td>\n",
              "      <td>-202</td>\n",
              "    </tr>\n",
              "  </tbody>\n",
              "</table>\n",
              "</div>"
            ],
            "text/plain": [
              "       uid  delta\n",
              "0  user_30   -202"
            ]
          },
          "execution_count": 7,
          "metadata": {},
          "output_type": "execute_result"
        }
      ],
      "source": [
        "df_min = pd.io.sql.read_sql(sql, connection)\n",
        "df_min"
      ]
    },
    {
      "cell_type": "markdown",
      "metadata": {
        "id": "XyAas3i5OANu"
      },
      "source": [
        "## 5. Выполните те же самые операции для максимального значения дельты, используя только один запрос. Название итогового датафрейма — `df_max`."
      ]
    },
    {
      "cell_type": "code",
      "execution_count": 8,
      "metadata": {
        "id": "QsXyBk18OHOA"
      },
      "outputs": [],
      "source": [
        "sql2 = (\n",
        "           '''\n",
        "           SELECT   uid, MAX(strftime(\"%s\", first_commit_ts) - deadlines.deadlines)/3600 AS delta\n",
        "           FROM      test\n",
        "           INNER JOIN deadlines ON test.labname = deadlines.labs\n",
        "           WHERE labname <> 'project1'      \n",
        "           '''\n",
        "           )"
      ]
    },
    {
      "cell_type": "code",
      "execution_count": 9,
      "metadata": {
        "colab": {
          "base_uri": "https://localhost:8080/",
          "height": 81
        },
        "id": "iWkEAsWDOPNx",
        "outputId": "7932360d-d4e5-4e6e-95bb-aa7947feef52"
      },
      "outputs": [
        {
          "data": {
            "text/html": [
              "<div>\n",
              "<style scoped>\n",
              "    .dataframe tbody tr th:only-of-type {\n",
              "        vertical-align: middle;\n",
              "    }\n",
              "\n",
              "    .dataframe tbody tr th {\n",
              "        vertical-align: top;\n",
              "    }\n",
              "\n",
              "    .dataframe thead th {\n",
              "        text-align: right;\n",
              "    }\n",
              "</style>\n",
              "<table border=\"1\" class=\"dataframe\">\n",
              "  <thead>\n",
              "    <tr style=\"text-align: right;\">\n",
              "      <th></th>\n",
              "      <th>uid</th>\n",
              "      <th>delta</th>\n",
              "    </tr>\n",
              "  </thead>\n",
              "  <tbody>\n",
              "    <tr>\n",
              "      <th>0</th>\n",
              "      <td>user_25</td>\n",
              "      <td>-2</td>\n",
              "    </tr>\n",
              "  </tbody>\n",
              "</table>\n",
              "</div>"
            ],
            "text/plain": [
              "       uid  delta\n",
              "0  user_25     -2"
            ]
          },
          "execution_count": 9,
          "metadata": {},
          "output_type": "execute_result"
        }
      ],
      "source": [
        "df_max = pd.io.sql.read_sql(sql2, connection)\n",
        "df_max"
      ]
    },
    {
      "cell_type": "markdown",
      "metadata": {
        "id": "Xwmz1sJFOW8O"
      },
      "source": [
        "## 6. Выполните те же самые операции для среднего значения дельты, используя только один запрос. На этот раз ваш итоговый датафрейм не должен включать столбец `uid`; имя датафрейма — `df_avg`."
      ]
    },
    {
      "cell_type": "code",
      "execution_count": 10,
      "metadata": {
        "id": "Lfa7ntOSObo-"
      },
      "outputs": [],
      "source": [
        "sql3 = (\n",
        "           '''\n",
        "           SELECT   AVG((strftime(\"%s\", first_commit_ts) - deadlines.deadlines)/3600) AS delta\n",
        "           FROM      test\n",
        "           INNER JOIN deadlines ON test.labname = deadlines.labs\n",
        "           WHERE labname <> 'project1'      \n",
        "           '''\n",
        "           )"
      ]
    },
    {
      "cell_type": "code",
      "execution_count": 11,
      "metadata": {
        "colab": {
          "base_uri": "https://localhost:8080/",
          "height": 81
        },
        "id": "wm7ZXuqmOpjg",
        "outputId": "953c7291-620b-43db-a00b-e08ebde11323"
      },
      "outputs": [
        {
          "data": {
            "text/html": [
              "<div>\n",
              "<style scoped>\n",
              "    .dataframe tbody tr th:only-of-type {\n",
              "        vertical-align: middle;\n",
              "    }\n",
              "\n",
              "    .dataframe tbody tr th {\n",
              "        vertical-align: top;\n",
              "    }\n",
              "\n",
              "    .dataframe thead th {\n",
              "        text-align: right;\n",
              "    }\n",
              "</style>\n",
              "<table border=\"1\" class=\"dataframe\">\n",
              "  <thead>\n",
              "    <tr style=\"text-align: right;\">\n",
              "      <th></th>\n",
              "      <th>delta</th>\n",
              "    </tr>\n",
              "  </thead>\n",
              "  <tbody>\n",
              "    <tr>\n",
              "      <th>0</th>\n",
              "      <td>-89.125</td>\n",
              "    </tr>\n",
              "  </tbody>\n",
              "</table>\n",
              "</div>"
            ],
            "text/plain": [
              "    delta\n",
              "0 -89.125"
            ]
          },
          "execution_count": 11,
          "metadata": {},
          "output_type": "execute_result"
        }
      ],
      "source": [
        "df_avg = pd.io.sql.read_sql(sql3, connection)\n",
        "df_avg"
      ]
    },
    {
      "cell_type": "markdown",
      "metadata": {
        "id": "E9xt4qqbO52B"
      },
      "source": [
        "## 7. Мы хотим проверить предположение о том, что у пользователей, посетивших ленту новостей всего несколько раз, меньше период времени между датой первого коммита и сроком сдачи лабораторного задания. Для этого вам необходимо рассчитать коэффициент корреляции между количеством просмотров страниц и разницей между датами."
      ]
    },
    {
      "cell_type": "markdown",
      "metadata": {
        "id": "AJyfeRxRO8RG"
      },
      "source": [
        "* Используя только один запрос, создайте таблицу со столбцами: `uid`,  `avg_diff`, `pageviews`.\n",
        "* `uid` — это `uid`, существующие в таблице `test`.\n",
        "* `avg_diff` — среднее значение дельты (периода времени между датой первого коммита и сроком сдачи лабораторного задания) для каждого пользователя.\n",
        "* `pageviews` — количество посещений ленты новостей одним пользователем.\n",
        "* Не учитывайте лабораторное задание `project1`.\n",
        "* Сохраните результаты в датафрейме `views_diff`.\n",
        "* Используйте метод `corr()` библиотеки Pandas для вычисления коэффициента корреляции между количеством просмотров и значением дельты."
      ]
    },
    {
      "cell_type": "code",
      "execution_count": 12,
      "metadata": {
        "colab": {
          "base_uri": "https://localhost:8080/",
          "height": 394
        },
        "id": "rknBRy2iPfbh",
        "outputId": "96dcd86c-f431-4c90-e6e4-e378a96b72d8"
      },
      "outputs": [
        {
          "data": {
            "text/html": [
              "<div>\n",
              "<style scoped>\n",
              "    .dataframe tbody tr th:only-of-type {\n",
              "        vertical-align: middle;\n",
              "    }\n",
              "\n",
              "    .dataframe tbody tr th {\n",
              "        vertical-align: top;\n",
              "    }\n",
              "\n",
              "    .dataframe thead th {\n",
              "        text-align: right;\n",
              "    }\n",
              "</style>\n",
              "<table border=\"1\" class=\"dataframe\">\n",
              "  <thead>\n",
              "    <tr style=\"text-align: right;\">\n",
              "      <th></th>\n",
              "      <th>uid</th>\n",
              "      <th>avg_diff</th>\n",
              "      <th>pageviews</th>\n",
              "    </tr>\n",
              "  </thead>\n",
              "  <tbody>\n",
              "    <tr>\n",
              "      <th>0</th>\n",
              "      <td>user_1</td>\n",
              "      <td>-64.400000</td>\n",
              "      <td>28</td>\n",
              "    </tr>\n",
              "    <tr>\n",
              "      <th>1</th>\n",
              "      <td>user_10</td>\n",
              "      <td>-74.800000</td>\n",
              "      <td>89</td>\n",
              "    </tr>\n",
              "    <tr>\n",
              "      <th>2</th>\n",
              "      <td>user_14</td>\n",
              "      <td>-159.000000</td>\n",
              "      <td>143</td>\n",
              "    </tr>\n",
              "    <tr>\n",
              "      <th>3</th>\n",
              "      <td>user_17</td>\n",
              "      <td>-61.600000</td>\n",
              "      <td>47</td>\n",
              "    </tr>\n",
              "    <tr>\n",
              "      <th>4</th>\n",
              "      <td>user_18</td>\n",
              "      <td>-5.666667</td>\n",
              "      <td>3</td>\n",
              "    </tr>\n",
              "    <tr>\n",
              "      <th>5</th>\n",
              "      <td>user_19</td>\n",
              "      <td>-98.750000</td>\n",
              "      <td>16</td>\n",
              "    </tr>\n",
              "    <tr>\n",
              "      <th>6</th>\n",
              "      <td>user_21</td>\n",
              "      <td>-95.500000</td>\n",
              "      <td>10</td>\n",
              "    </tr>\n",
              "    <tr>\n",
              "      <th>7</th>\n",
              "      <td>user_25</td>\n",
              "      <td>-92.600000</td>\n",
              "      <td>179</td>\n",
              "    </tr>\n",
              "    <tr>\n",
              "      <th>8</th>\n",
              "      <td>user_28</td>\n",
              "      <td>-86.400000</td>\n",
              "      <td>149</td>\n",
              "    </tr>\n",
              "    <tr>\n",
              "      <th>9</th>\n",
              "      <td>user_3</td>\n",
              "      <td>-105.400000</td>\n",
              "      <td>317</td>\n",
              "    </tr>\n",
              "    <tr>\n",
              "      <th>10</th>\n",
              "      <td>user_30</td>\n",
              "      <td>-145.250000</td>\n",
              "      <td>3</td>\n",
              "    </tr>\n",
              "  </tbody>\n",
              "</table>\n",
              "</div>"
            ],
            "text/plain": [
              "        uid    avg_diff  pageviews\n",
              "0    user_1  -64.400000         28\n",
              "1   user_10  -74.800000         89\n",
              "2   user_14 -159.000000        143\n",
              "3   user_17  -61.600000         47\n",
              "4   user_18   -5.666667          3\n",
              "5   user_19  -98.750000         16\n",
              "6   user_21  -95.500000         10\n",
              "7   user_25  -92.600000        179\n",
              "8   user_28  -86.400000        149\n",
              "9    user_3 -105.400000        317\n",
              "10  user_30 -145.250000          3"
            ]
          },
          "execution_count": 12,
          "metadata": {},
          "output_type": "execute_result"
        }
      ],
      "source": [
        "views_diff = pd.io.sql.read_sql(\n",
        "             '''\n",
        "             WITH a AS \n",
        "             ( SELECT DISTINCT uid, count(datetime) AS cnt_dt FROM pageviews GROUP BY uid )\n",
        "             SELECT test.uid, \n",
        "                    AVG(( strftime( \"%s\", test.first_commit_ts ) - deadlines.deadlines ) / 3600 ) AS avg_diff,\n",
        "                    a.cnt_dt AS pageviews               \n",
        "             FROM test\n",
        "             LEFT OUTER JOIN deadlines on test.labname = deadlines.labs AND test.labname != 'project1'\n",
        "             LEFT OUTER JOIN a ON test.uid = a.uid\n",
        "             GROUP BY test.uid\n",
        "             ;''', con=connection , parse_dates = ['deadlines.deadlines', 'test.first_commit_ts'] )\n",
        " \n",
        "views_diff"
      ]
    },
    {
      "cell_type": "code",
      "execution_count": 13,
      "metadata": {
        "colab": {
          "base_uri": "https://localhost:8080/",
          "height": 112
        },
        "id": "axH50wBCU41o",
        "outputId": "7b95b014-aca8-44f4-90be-61cd982ca505"
      },
      "outputs": [
        {
          "data": {
            "text/html": [
              "<div>\n",
              "<style scoped>\n",
              "    .dataframe tbody tr th:only-of-type {\n",
              "        vertical-align: middle;\n",
              "    }\n",
              "\n",
              "    .dataframe tbody tr th {\n",
              "        vertical-align: top;\n",
              "    }\n",
              "\n",
              "    .dataframe thead th {\n",
              "        text-align: right;\n",
              "    }\n",
              "</style>\n",
              "<table border=\"1\" class=\"dataframe\">\n",
              "  <thead>\n",
              "    <tr style=\"text-align: right;\">\n",
              "      <th></th>\n",
              "      <th>avg_diff</th>\n",
              "      <th>pageviews</th>\n",
              "    </tr>\n",
              "  </thead>\n",
              "  <tbody>\n",
              "    <tr>\n",
              "      <th>avg_diff</th>\n",
              "      <td>1.000000</td>\n",
              "      <td>-0.279736</td>\n",
              "    </tr>\n",
              "    <tr>\n",
              "      <th>pageviews</th>\n",
              "      <td>-0.279736</td>\n",
              "      <td>1.000000</td>\n",
              "    </tr>\n",
              "  </tbody>\n",
              "</table>\n",
              "</div>"
            ],
            "text/plain": [
              "           avg_diff  pageviews\n",
              "avg_diff   1.000000  -0.279736\n",
              "pageviews -0.279736   1.000000"
            ]
          },
          "execution_count": 13,
          "metadata": {},
          "output_type": "execute_result"
        }
      ],
      "source": [
        "views_diff.corr()"
      ]
    },
    {
      "cell_type": "code",
      "execution_count": 14,
      "metadata": {
        "colab": {
          "base_uri": "https://localhost:8080/",
          "height": 81
        },
        "id": "6LoObedelARr",
        "outputId": "317424c6-8875-4090-c39f-2c02d8c51c16"
      },
      "outputs": [
        {
          "data": {
            "text/html": [
              "<div>\n",
              "<style scoped>\n",
              "    .dataframe tbody tr th:only-of-type {\n",
              "        vertical-align: middle;\n",
              "    }\n",
              "\n",
              "    .dataframe tbody tr th {\n",
              "        vertical-align: top;\n",
              "    }\n",
              "\n",
              "    .dataframe thead th {\n",
              "        text-align: right;\n",
              "    }\n",
              "</style>\n",
              "<table border=\"1\" class=\"dataframe\">\n",
              "  <thead>\n",
              "    <tr style=\"text-align: right;\">\n",
              "      <th></th>\n",
              "      <th>uid</th>\n",
              "      <th>delta</th>\n",
              "    </tr>\n",
              "  </thead>\n",
              "  <tbody>\n",
              "    <tr>\n",
              "      <th>0</th>\n",
              "      <td>user_30</td>\n",
              "      <td>-202</td>\n",
              "    </tr>\n",
              "  </tbody>\n",
              "</table>\n",
              "</div>"
            ],
            "text/plain": [
              "       uid  delta\n",
              "0  user_30   -202"
            ]
          },
          "execution_count": 14,
          "metadata": {},
          "output_type": "execute_result"
        }
      ],
      "source": [
        "df_min #проверка"
      ]
    },
    {
      "cell_type": "code",
      "execution_count": 15,
      "metadata": {
        "colab": {
          "base_uri": "https://localhost:8080/",
          "height": 81
        },
        "id": "reLnCAyqlF-h",
        "outputId": "a13fcd7d-bb34-4ac6-d23b-5a02ce2406e8"
      },
      "outputs": [
        {
          "data": {
            "text/html": [
              "<div>\n",
              "<style scoped>\n",
              "    .dataframe tbody tr th:only-of-type {\n",
              "        vertical-align: middle;\n",
              "    }\n",
              "\n",
              "    .dataframe tbody tr th {\n",
              "        vertical-align: top;\n",
              "    }\n",
              "\n",
              "    .dataframe thead th {\n",
              "        text-align: right;\n",
              "    }\n",
              "</style>\n",
              "<table border=\"1\" class=\"dataframe\">\n",
              "  <thead>\n",
              "    <tr style=\"text-align: right;\">\n",
              "      <th></th>\n",
              "      <th>uid</th>\n",
              "      <th>delta</th>\n",
              "    </tr>\n",
              "  </thead>\n",
              "  <tbody>\n",
              "    <tr>\n",
              "      <th>0</th>\n",
              "      <td>user_25</td>\n",
              "      <td>-2</td>\n",
              "    </tr>\n",
              "  </tbody>\n",
              "</table>\n",
              "</div>"
            ],
            "text/plain": [
              "       uid  delta\n",
              "0  user_25     -2"
            ]
          },
          "execution_count": 15,
          "metadata": {},
          "output_type": "execute_result"
        }
      ],
      "source": [
        "df_max #проверка"
      ]
    },
    {
      "cell_type": "code",
      "execution_count": 16,
      "metadata": {
        "colab": {
          "base_uri": "https://localhost:8080/",
          "height": 81
        },
        "id": "7q8Q_yeHlJUt",
        "outputId": "ed31c370-9173-4d57-9c73-8c096411135b"
      },
      "outputs": [
        {
          "data": {
            "text/html": [
              "<div>\n",
              "<style scoped>\n",
              "    .dataframe tbody tr th:only-of-type {\n",
              "        vertical-align: middle;\n",
              "    }\n",
              "\n",
              "    .dataframe tbody tr th {\n",
              "        vertical-align: top;\n",
              "    }\n",
              "\n",
              "    .dataframe thead th {\n",
              "        text-align: right;\n",
              "    }\n",
              "</style>\n",
              "<table border=\"1\" class=\"dataframe\">\n",
              "  <thead>\n",
              "    <tr style=\"text-align: right;\">\n",
              "      <th></th>\n",
              "      <th>delta</th>\n",
              "    </tr>\n",
              "  </thead>\n",
              "  <tbody>\n",
              "    <tr>\n",
              "      <th>0</th>\n",
              "      <td>-89.125</td>\n",
              "    </tr>\n",
              "  </tbody>\n",
              "</table>\n",
              "</div>"
            ],
            "text/plain": [
              "    delta\n",
              "0 -89.125"
            ]
          },
          "execution_count": 16,
          "metadata": {},
          "output_type": "execute_result"
        }
      ],
      "source": [
        "df_avg #проверка"
      ]
    },
    {
      "cell_type": "code",
      "execution_count": 17,
      "metadata": {
        "colab": {
          "base_uri": "https://localhost:8080/",
          "height": 112
        },
        "id": "0l2G4viglZqY",
        "outputId": "54964050-eca5-4d2c-ca0b-ce8108632576"
      },
      "outputs": [
        {
          "data": {
            "text/html": [
              "<div>\n",
              "<style scoped>\n",
              "    .dataframe tbody tr th:only-of-type {\n",
              "        vertical-align: middle;\n",
              "    }\n",
              "\n",
              "    .dataframe tbody tr th {\n",
              "        vertical-align: top;\n",
              "    }\n",
              "\n",
              "    .dataframe thead th {\n",
              "        text-align: right;\n",
              "    }\n",
              "</style>\n",
              "<table border=\"1\" class=\"dataframe\">\n",
              "  <thead>\n",
              "    <tr style=\"text-align: right;\">\n",
              "      <th></th>\n",
              "      <th>avg_diff</th>\n",
              "      <th>pageviews</th>\n",
              "    </tr>\n",
              "  </thead>\n",
              "  <tbody>\n",
              "    <tr>\n",
              "      <th>avg_diff</th>\n",
              "      <td>1.000000</td>\n",
              "      <td>-0.279736</td>\n",
              "    </tr>\n",
              "    <tr>\n",
              "      <th>pageviews</th>\n",
              "      <td>-0.279736</td>\n",
              "      <td>1.000000</td>\n",
              "    </tr>\n",
              "  </tbody>\n",
              "</table>\n",
              "</div>"
            ],
            "text/plain": [
              "           avg_diff  pageviews\n",
              "avg_diff   1.000000  -0.279736\n",
              "pageviews -0.279736   1.000000"
            ]
          },
          "execution_count": 17,
          "metadata": {},
          "output_type": "execute_result"
        }
      ],
      "source": [
        "views_diff.corr() #проверка"
      ]
    },
    {
      "cell_type": "markdown",
      "metadata": {
        "id": "HTDXfYPtU8v5"
      },
      "source": [
        "## 8. Закройте соединение."
      ]
    },
    {
      "cell_type": "code",
      "execution_count": 18,
      "metadata": {
        "id": "LtSqNLfoVNkY"
      },
      "outputs": [],
      "source": [
        "connection.close()"
      ]
    }
  ],
  "metadata": {
    "colab": {
      "collapsed_sections": [],
      "provenance": []
    },
    "kernelspec": {
      "display_name": "Python 3.9.12 ('base')",
      "language": "python",
      "name": "python3"
    },
    "language_info": {
      "codemirror_mode": {
        "name": "ipython",
        "version": 3
      },
      "file_extension": ".py",
      "mimetype": "text/x-python",
      "name": "python",
      "nbconvert_exporter": "python",
      "pygments_lexer": "ipython3",
      "version": "3.9.12"
    },
    "vscode": {
      "interpreter": {
        "hash": "52d9bec1bd0dd1d60d9f041927d73dc99a1ae836019e05c066f33f67e6a94d9c"
      }
    }
  },
  "nbformat": 4,
  "nbformat_minor": 0
}
