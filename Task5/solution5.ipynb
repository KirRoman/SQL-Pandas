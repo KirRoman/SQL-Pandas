{
  "cells": [
    {
      "cell_type": "markdown",
      "metadata": {
        "id": "BB_amIsgVmLc"
      },
      "source": [
        "# Task 5: A/B-тестирование"
      ]
    },
    {
      "cell_type": "markdown",
      "metadata": {
        "id": "Jgd_TT2dVr95"
      },
      "source": [
        "Итак... давайте, наконец, выясним, повлияло ли посещение ленты новостей на поведение учащихся. Они в итоге приступили раньше к работе над лабораторным заданием? Помните, что у нас есть две подготовленные таблицы в базе данных: `test` и `control`. Мы выполним нечто, похожее на A/B-тестирование. Чтобы поймать эффект, нам нужно вычислить значение дельты (период времени между датой первого коммита и сроком сдачи лабораторного задания) до того момента, когда учащиеся впервые посетили страницу с лентой новостей, и после этого. Мы должны сделать то же самое и для контрольной группы.\n",
        "\n",
        "Другими словами, каждый пользователь из тестовой таблицы имеет свою собственную временную метку для первого посещения новостной ленты. Мы хотим вычислить среднее значение дельты (разницу между датой первого коммита и сроком сдачи) до этой временной метки и после нее. Мы сделаем то же самое для пользователей в контрольной группе. Вы можете сказать: «Но они вообще не посещали ленту новостей». Это так, и ранее мы решили использовать среднюю временную метку первого просмотра пользователями тестовой группы для пользователей контрольной группы.\n",
        "\n",
        "Если значение дельты перед первым посещением ленты новостей значительно отличается от этого показателя после первого посещения в тестовой группе, и мы не видим аналогичного эффекта в контрольной группе, значит, создание страницы с новостной лентой было отличной идеей. Мы можем распространить эту практику на всю группу.\n",
        "\n",
        "Подробное описание:"
      ]
    },
    {
      "cell_type": "markdown",
      "metadata": {
        "id": "iXgL3H3wW5bU"
      },
      "source": [
        "## 1. Создайте соединение с базой данных с помощью библиотеки sqlite3"
      ]
    },
    {
      "cell_type": "code",
      "execution_count": 1,
      "metadata": {
        "colab": {
          "base_uri": "https://localhost:8080/"
        },
        "id": "o7d1NCJtW4wU",
        "outputId": "aa6f15bc-bb69-4a9c-ef4e-fd0199978b24"
      },
      "outputs": [],
      "source": [
        "import pandas as pd\n",
        "import sqlite3 as s\n",
        "connection = s.connect('C:/Users/зщ/Downloads/DS_project11-0-develop/src/data/checking-logs.sqlite') "
      ]
    },
    {
      "cell_type": "markdown",
      "metadata": {
        "id": "k2WOr61yX8WW"
      },
      "source": [
        "Используя только один запрос для каждой из групп, создайте два датафрейма:\n",
        "`test_results` и `control_results` со столбцами `time` и `avg_diff` и только двумя строками.\n",
        "* `times` должно иметь значения `before` и `after`.\n",
        "* `avg_diff` содержит среднее значение дельты для всех пользователей за период времени до первого посещения ленты новостей каждым из них и после этого.\n",
        "* Учитываются только те пользователи, для которых имеются наблюдения и `before`, и `after`."
      ]
    },
    {
      "cell_type": "code",
      "execution_count": 2,
      "metadata": {
        "colab": {
          "base_uri": "https://localhost:8080/",
          "height": 112
        },
        "id": "515ab201",
        "outputId": "09a9a769-e68f-4205-9150-79e0aa25d3c5",
        "scrolled": true
      },
      "outputs": [
        {
          "data": {
            "text/html": [
              "<div>\n",
              "<style scoped>\n",
              "    .dataframe tbody tr th:only-of-type {\n",
              "        vertical-align: middle;\n",
              "    }\n",
              "\n",
              "    .dataframe tbody tr th {\n",
              "        vertical-align: top;\n",
              "    }\n",
              "\n",
              "    .dataframe thead th {\n",
              "        text-align: right;\n",
              "    }\n",
              "</style>\n",
              "<table border=\"1\" class=\"dataframe\">\n",
              "  <thead>\n",
              "    <tr style=\"text-align: right;\">\n",
              "      <th></th>\n",
              "      <th>times</th>\n",
              "      <th>avg_diff</th>\n",
              "    </tr>\n",
              "  </thead>\n",
              "  <tbody>\n",
              "    <tr>\n",
              "      <th>0</th>\n",
              "      <td>after</td>\n",
              "      <td>-99.523810</td>\n",
              "    </tr>\n",
              "    <tr>\n",
              "      <th>1</th>\n",
              "      <td>before</td>\n",
              "      <td>-66.047619</td>\n",
              "    </tr>\n",
              "  </tbody>\n",
              "</table>\n",
              "</div>"
            ],
            "text/plain": [
              "    times   avg_diff\n",
              "0   after -99.523810\n",
              "1  before -66.047619"
            ]
          },
          "execution_count": 2,
          "metadata": {},
          "output_type": "execute_result"
        }
      ],
      "source": [
        "sql = \"\"\"WITH a AS\n",
        "                (\n",
        "                SELECT \"before\" as times,AVG((strftime(\"%s\", test.first_commit_ts)-deadlines.deadlines)/3600) as avg_diff\n",
        "                FROM\n",
        "                test LEFT JOIN deadlines ON test.labname = deadlines.labs\n",
        "                WHERE test.labname != \"project1\" AND test.first_commit_ts < test.first_view_ts\n",
        "                GROUP BY test.uid\n",
        "                HAVING test.uid IN(SELECT DISTINCT uid FROM test WHERE labname != \"project1\" AND first_commit_ts > first_view_ts)\n",
        "\n",
        "                union\n",
        "\n",
        "                SELECT \"after\" as times,avg((strftime(\"%s\", test.first_commit_ts)-deadlines.deadlines)/3600) as avg_diff\n",
        "                FROM test LEFT JOIN deadlines ON test.labname = deadlines.labs\n",
        "                WHERE test.labname != \"project1\" AND test.first_commit_ts > test.first_view_ts\n",
        "                GROUP BY test.uid\n",
        "                HAVING test.uid IN(SELECT DISTINCT uid FROM test WHERE labname != \"project1\" AND first_commit_ts < first_view_ts)\n",
        "                )\n",
        "\n",
        "                SELECT a.times, AVG(a.avg_diff) as avg_diff\n",
        "                FROM a GROUP BY a.times\n",
        "                ;\"\"\"\n",
        "test_results = pd.read_sql(sql, connection)\n",
        "test_results"
      ]
    },
    {
      "cell_type": "code",
      "execution_count": 3,
      "metadata": {
        "colab": {
          "base_uri": "https://localhost:8080/",
          "height": 112
        },
        "id": "cbc9564c",
        "outputId": "df434653-21c9-4fc2-a685-13e8556edce5",
        "scrolled": true
      },
      "outputs": [
        {
          "data": {
            "text/html": [
              "<div>\n",
              "<style scoped>\n",
              "    .dataframe tbody tr th:only-of-type {\n",
              "        vertical-align: middle;\n",
              "    }\n",
              "\n",
              "    .dataframe tbody tr th {\n",
              "        vertical-align: top;\n",
              "    }\n",
              "\n",
              "    .dataframe thead th {\n",
              "        text-align: right;\n",
              "    }\n",
              "</style>\n",
              "<table border=\"1\" class=\"dataframe\">\n",
              "  <thead>\n",
              "    <tr style=\"text-align: right;\">\n",
              "      <th></th>\n",
              "      <th>times</th>\n",
              "      <th>avg_diff</th>\n",
              "    </tr>\n",
              "  </thead>\n",
              "  <tbody>\n",
              "    <tr>\n",
              "      <th>0</th>\n",
              "      <td>after</td>\n",
              "      <td>-99.322222</td>\n",
              "    </tr>\n",
              "    <tr>\n",
              "      <th>1</th>\n",
              "      <td>before</td>\n",
              "      <td>-98.033333</td>\n",
              "    </tr>\n",
              "  </tbody>\n",
              "</table>\n",
              "</div>"
            ],
            "text/plain": [
              "    times   avg_diff\n",
              "0   after -99.322222\n",
              "1  before -98.033333"
            ]
          },
          "execution_count": 3,
          "metadata": {},
          "output_type": "execute_result"
        }
      ],
      "source": [
        "sql2 = \"\"\"WITH a AS\n",
        "                (\n",
        "                SELECT\"before\" AS times,AVG((strftime(\"%s\", control.first_commit_ts)-deadlines.deadlines) / 3600) as avg_diff\n",
        "                FROM control LEFT JOIN deadlines ON control.labname = deadlines.labs\n",
        "                WHERE control.labname != \"project1\" AND control.first_commit_ts < \n",
        "                (SELECT avg_time FROM(SELECT DISTINCT uid, datetime(AVG(strftime(\"%s\", first_view_ts)), \"unixepoch\") as avg_time FROM test))\n",
        "                GROUP BY control.uid\n",
        "                HAVING control.uid IN (SELECT DISTINCT uid FROM control WHERE labname != \"project1\" AND first_commit_ts > (SELECT avg_time FROM \n",
        "                (SELECT DISTINCT uid, datetime(AVG(strftime(\"%s\", first_view_ts)), \"unixepoch\") as avg_time FROM test)))\n",
        "\n",
        "                union\n",
        "\n",
        "                SELECT\"after\" as times,AVG((strftime(\"%s\", control.first_commit_ts)-deadlines.deadlines)/3600) as avg_diff \n",
        "                FROM control LEFT JOIN deadlines \n",
        "                ON control.labname = deadlines.labs\n",
        "                WHERE control.labname != \"project1\" AND control.first_commit_ts > (SELECT avg_time FROM(SELECT DISTINCT uid, datetime(AVG(strftime(\"%s\", first_view_ts)), \"unixepoch\") as avg_time \n",
        "                FROM test))\n",
        "                GROUP BY control.uid\n",
        "                HAVING control.uid in(SELECT DISTINCT uid FROM control WHERE labname != \"project1\" AND first_commit_ts < (SELECT avg_time FROM \n",
        "                (SELECT DISTINCT uid, datetime(AVG(strftime(\"%s\", first_view_ts)), \"unixepoch\") as avg_time FROM test))))\n",
        "                \n",
        "                SELECT a.times,avg(a.avg_diff) as avg_diff FROM a GROUP BY a.times\n",
        "                ;\"\"\"\n",
        "control_results = pd.read_sql(sql2, connection)\n",
        "control_results"
      ]
    },
    {
      "cell_type": "code",
      "execution_count": 4,
      "metadata": {
        "id": "6cd7a4d5"
      },
      "outputs": [],
      "source": [
        "connection.close()"
      ]
    },
    {
      "cell_type": "markdown",
      "metadata": {
        "id": "588e79fb"
      },
      "source": [
        "## 5. Дайте ответ: оказалось ли предположение верным и влияет ли наличие страницы с новостной лентой на поведение учащихся?"
      ]
    },
    {
      "cell_type": "markdown",
      "metadata": {
        "id": "c55d9034"
      },
      "source": [
        "_Изменение времени в тестовой группе:_"
      ]
    },
    {
      "cell_type": "code",
      "execution_count": 5,
      "metadata": {
        "colab": {
          "base_uri": "https://localhost:8080/",
          "height": 112
        },
        "id": "04b0e438",
        "outputId": "345580e4-3a3c-4c35-c832-053e81e93466"
      },
      "outputs": [
        {
          "data": {
            "text/html": [
              "<div>\n",
              "<style scoped>\n",
              "    .dataframe tbody tr th:only-of-type {\n",
              "        vertical-align: middle;\n",
              "    }\n",
              "\n",
              "    .dataframe tbody tr th {\n",
              "        vertical-align: top;\n",
              "    }\n",
              "\n",
              "    .dataframe thead th {\n",
              "        text-align: right;\n",
              "    }\n",
              "</style>\n",
              "<table border=\"1\" class=\"dataframe\">\n",
              "  <thead>\n",
              "    <tr style=\"text-align: right;\">\n",
              "      <th></th>\n",
              "      <th>times</th>\n",
              "      <th>avg_diff</th>\n",
              "    </tr>\n",
              "  </thead>\n",
              "  <tbody>\n",
              "    <tr>\n",
              "      <th>0</th>\n",
              "      <td>after</td>\n",
              "      <td>-99.523810</td>\n",
              "    </tr>\n",
              "    <tr>\n",
              "      <th>1</th>\n",
              "      <td>before</td>\n",
              "      <td>-66.047619</td>\n",
              "    </tr>\n",
              "  </tbody>\n",
              "</table>\n",
              "</div>"
            ],
            "text/plain": [
              "    times   avg_diff\n",
              "0   after -99.523810\n",
              "1  before -66.047619"
            ]
          },
          "execution_count": 5,
          "metadata": {},
          "output_type": "execute_result"
        }
      ],
      "source": [
        "test_results #проверка"
      ]
    },
    {
      "cell_type": "markdown",
      "metadata": {
        "id": "f2c28c8f"
      },
      "source": [
        "_Изменение времени в контрольной группе:_"
      ]
    },
    {
      "cell_type": "code",
      "execution_count": 6,
      "metadata": {
        "colab": {
          "base_uri": "https://localhost:8080/",
          "height": 112
        },
        "id": "b5413f33",
        "outputId": "b661b8c0-54c4-43fa-d9d9-4b42d05e4b9b"
      },
      "outputs": [
        {
          "data": {
            "text/html": [
              "<div>\n",
              "<style scoped>\n",
              "    .dataframe tbody tr th:only-of-type {\n",
              "        vertical-align: middle;\n",
              "    }\n",
              "\n",
              "    .dataframe tbody tr th {\n",
              "        vertical-align: top;\n",
              "    }\n",
              "\n",
              "    .dataframe thead th {\n",
              "        text-align: right;\n",
              "    }\n",
              "</style>\n",
              "<table border=\"1\" class=\"dataframe\">\n",
              "  <thead>\n",
              "    <tr style=\"text-align: right;\">\n",
              "      <th></th>\n",
              "      <th>times</th>\n",
              "      <th>avg_diff</th>\n",
              "    </tr>\n",
              "  </thead>\n",
              "  <tbody>\n",
              "    <tr>\n",
              "      <th>0</th>\n",
              "      <td>after</td>\n",
              "      <td>-99.322222</td>\n",
              "    </tr>\n",
              "    <tr>\n",
              "      <th>1</th>\n",
              "      <td>before</td>\n",
              "      <td>-98.033333</td>\n",
              "    </tr>\n",
              "  </tbody>\n",
              "</table>\n",
              "</div>"
            ],
            "text/plain": [
              "    times   avg_diff\n",
              "0   after -99.322222\n",
              "1  before -98.033333"
            ]
          },
          "execution_count": 6,
          "metadata": {},
          "output_type": "execute_result"
        }
      ],
      "source": [
        "control_results #проверка"
      ]
    },
    {
      "cell_type": "markdown",
      "metadata": {
        "id": "ad8fd09e"
      },
      "source": [
        "Дайте ответ: оказалось ли предположение верным и влияет ли наличие страницы с новостной лентой на поведение учащихся?\n",
        "**Да, наличие страницы с новостной лентой влияет на поведение учащихся**"
      ]
    }
  ],
  "metadata": {
    "colab": {
      "collapsed_sections": [],
      "provenance": []
    },
    "kernelspec": {
      "display_name": "Python 3.9.12 ('base')",
      "language": "python",
      "name": "python3"
    },
    "language_info": {
      "codemirror_mode": {
        "name": "ipython",
        "version": 3
      },
      "file_extension": ".py",
      "mimetype": "text/x-python",
      "name": "python",
      "nbconvert_exporter": "python",
      "pygments_lexer": "ipython3",
      "version": "3.9.12"
    },
    "vscode": {
      "interpreter": {
        "hash": "52d9bec1bd0dd1d60d9f041927d73dc99a1ae836019e05c066f33f67e6a94d9c"
      }
    }
  },
  "nbformat": 4,
  "nbformat_minor": 0
}
